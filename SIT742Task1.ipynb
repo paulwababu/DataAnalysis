{
 "cells": [
  {
   "cell_type": "markdown",
   "metadata": {
    "colab_type": "text",
    "id": "EMX0qNbHot1x"
   },
   "source": [
    "# SIT742: Modern Data Science \n",
    "**(2020 Assessment Task 01: Exploration for Data Scientists Survey Data)**\n",
    "\n",
    "---\n",
    "- Materials in this module include resources collected from various open-source online repositories.\n",
    "- You are free to use, change and distribute this package.\n",
    "\n",
    "Prepared by **SIT742 Teaching Team**\n",
    "\n",
    "\n",
    "---\n",
    "\n",
    "<div class=\"alert alert-block alert-info\">\n",
    "Enter your information in the following cell. Please make sure you fill your Student ID and Name correctly.  \n",
    "</div>\n",
    "\n",
    "**Student Information:** Please fill your information below\n",
    "\n",
    "- Name:  \n",
    "- Student ID:  \n",
    "- Email:  \n",
    "- Lab Session and Tutor (for on campus students): \n",
    "\n",
    "---"
   ]
  },
  {
   "cell_type": "markdown",
   "metadata": {
    "colab_type": "text",
    "id": "cHdQMSVzJyip"
   },
   "source": [
    "## Overview\n",
    "\n",
    "In 2017, [Kaggle](https://www.kaggle.com) (a data science community and competition platform) conducted a survey on a large range of users registered as the data scientist in their platform. The survey data are broadly covered the skill set of the data scientists, the demographic of the data scientists, the feedback of the platform and many other information. \n",
    "\n",
    "In this task, you will need to \n",
    "\n",
    "- **Part 1**: Given the following two data sets, you are required to finish some required analysis, with the exploreation data analytics skills as well as visuilization skills\n",
    "     - [MCQResponses.csv](https://github.com/tulip-lab/sit742/raw/master/Assessment/2020/data/MCQResponses.csv): Participants' answers to multiple choice questions. Each column contains the answers of one respondent to a specific question.     \n",
    "     - [ConversionRates.csv](https://github.com/tulip-lab/sit742/raw/master/Assessment/2020/data/ConversionRates.csv): Currency conversion rates to USD. \n",
    "- **Part 2**: Given the following data set, you are required to find out top keywords for hiring the data scientists. \n",
    "    - [JobPostings.csv](https://github.com/tulip-lab/sit742/raw/master/Assessment/2020/data/JobPostings.csv): Data scientists job advertising in US with job descriptions, from JobPikr.\n",
    "\n",
    "\n",
    "You will be required to complete the coding to answer the questions with a neat and clean format, and your commenting and adherence to code standards will also be considered when marking. Further information on Python standards, please visit https://www.python.org/dev/peps/pep-0008/ \n",
    "\n",
    "\n",
    "**Note**: You are not necessary to stick to the partial code provided, and you can write your own code to implement the required tasks. But you should provide sufficient comments.\n"
   ]
  },
  {
   "cell_type": "markdown",
   "metadata": {
    "colab_type": "text",
    "id": "0d3FjO8fJyir"
   },
   "source": [
    "## Part 1 - What we could know about the Data Scientists? "
   ]
  },
  {
   "cell_type": "markdown",
   "metadata": {
    "_cell_guid": "06c9b38b-000e-4b8a-95f0-65a93bb332f2",
    "_uuid": "2bfa8ca86a226c9900a67a02236a072274bc0d18",
    "colab_type": "text",
    "id": "NuDhBkqaot17"
   },
   "source": [
    "### 1.0. Libraries and data files\n",
    "<a id=\"Load data\"></a>\n",
    "***\n"
   ]
  },
  {
   "cell_type": "code",
   "execution_count": 42,
   "metadata": {
    "colab": {
     "base_uri": "https://localhost:8080/",
     "height": 193
    },
    "colab_type": "code",
    "id": "Tzx_NMcsJyiv",
    "outputId": "54746ab0-75bc-466d-826b-41766256eaf7"
   },
   "outputs": [
    {
     "name": "stdout",
     "output_type": "stream",
     "text": [
      "Requirement already satisfied: wget in c:\\users\\lytica\\anaconda3\\lib\\site-packages (3.2)\n"
     ]
    }
   ],
   "source": [
    "!pip install wget"
   ]
  },
  {
   "cell_type": "code",
   "execution_count": 1,
   "metadata": {
    "_cell_guid": "bf6d21b3-22d5-48e4-8a62-a50ef36bae42",
    "_kg_hide-input": true,
    "_kg_hide-output": false,
    "_uuid": "76567470049e7d7e878b76d72e81858f56bdbd2a",
    "colab": {},
    "colab_type": "code",
    "id": "7AVjZqvmot2A",
    "scrolled": true
   },
   "outputs": [
    {
     "name": "stderr",
     "output_type": "stream",
     "text": [
      "C:\\Users\\lytica\\Anaconda3\\lib\\site-packages\\ipykernel_launcher.py:4: FutureWarning: The pandas.datetime class is deprecated and will be removed from pandas in a future version. Import from datetime module instead.\n",
      "  after removing the cwd from sys.path.\n"
     ]
    }
   ],
   "source": [
    "import numpy as np\n",
    "import matplotlib.pyplot as plt\n",
    "import pandas as pd\n",
    "from pandas import datetime\n",
    "import wget\n",
    "import seaborn as sns # you can use other packages such as matplotlib too\n",
    "sns.set(style=\"whitegrid\")"
   ]
  },
  {
   "cell_type": "code",
   "execution_count": 44,
   "metadata": {
    "_cell_guid": "bf6d21b3-22d5-48e4-8a62-a50ef36bae42",
    "_kg_hide-input": true,
    "_kg_hide-output": false,
    "_uuid": "76567470049e7d7e878b76d72e81858f56bdbd2a",
    "colab": {},
    "colab_type": "code",
    "id": "7AVjZqvmot2A",
    "scrolled": true
   },
   "outputs": [],
   "source": [
    "link_to_data = 'https://github.com/tulip-lab/sit742/raw/master/Assessment/2020/data/MCQResponses.csv'\n",
    "DataSet = wget.download(link_to_data)\n",
    "\n",
    "link_to_data = 'https://github.com/tulip-lab/sit742/raw/master/Assessment/2020/data/ConversionRates.csv'\n",
    "DataSet = wget.download(link_to_data)\n",
    "\n",
    "link_to_data = 'https://github.com/tulip-lab/sit742/raw/master/Assessment/2020/data/JobPostings.csv'\n",
    "DataSet = wget.download(link_to_data)"
   ]
  },
  {
   "cell_type": "markdown",
   "metadata": {
    "colab_type": "text",
    "id": "xt84oidr-jof"
   },
   "source": [
    " <div class=\"alert alert-block alert-info\">\n",
    "\n",
    "**Code**: \n",
    "    You are required to load MCQResponses.csv into dataframe df_demog, and check the data statistics and general infommation by printing its top 5 rows.\n",
    "</div>"
   ]
  },
  {
   "cell_type": "code",
   "execution_count": 2,
   "metadata": {
    "colab": {
     "base_uri": "https://localhost:8080/",
     "height": 395
    },
    "colab_type": "code",
    "id": "Xl5VV8v4ot2N",
    "outputId": "34fb6c39-5e20-45a5-9b25-64ca4481296d"
   },
   "outputs": [],
   "source": [
    "# Load MCQResponses\n",
    "\n",
    "df_demog =  pd.read_csv('MCQResponses.csv')"
   ]
  },
  {
   "cell_type": "code",
   "execution_count": 3,
   "metadata": {},
   "outputs": [
    {
     "data": {
      "text/html": [
       "<div>\n",
       "<style scoped>\n",
       "    .dataframe tbody tr th:only-of-type {\n",
       "        vertical-align: middle;\n",
       "    }\n",
       "\n",
       "    .dataframe tbody tr th {\n",
       "        vertical-align: top;\n",
       "    }\n",
       "\n",
       "    .dataframe thead th {\n",
       "        text-align: right;\n",
       "    }\n",
       "</style>\n",
       "<table border=\"1\" class=\"dataframe\">\n",
       "  <thead>\n",
       "    <tr style=\"text-align: right;\">\n",
       "      <th></th>\n",
       "      <th>GenderSelect</th>\n",
       "      <th>Country</th>\n",
       "      <th>Age</th>\n",
       "      <th>EmploymentStatus</th>\n",
       "      <th>CodeWriter</th>\n",
       "      <th>CurrentJobTitleSelect</th>\n",
       "      <th>TitleFit</th>\n",
       "      <th>CurrentEmployerType</th>\n",
       "      <th>MLToolNextYearSelect</th>\n",
       "      <th>MLMethodNextYearSelect</th>\n",
       "      <th>LanguageRecommendationSelect</th>\n",
       "      <th>FormalEducation</th>\n",
       "      <th>MajorSelect</th>\n",
       "      <th>FirstTrainingSelect</th>\n",
       "      <th>CompensationAmount</th>\n",
       "      <th>CompensationCurrency</th>\n",
       "      <th>JobSatisfaction</th>\n",
       "    </tr>\n",
       "  </thead>\n",
       "  <tbody>\n",
       "    <tr>\n",
       "      <th>0</th>\n",
       "      <td>Male</td>\n",
       "      <td>United States</td>\n",
       "      <td>56</td>\n",
       "      <td>Independent contractor, freelancer, or self-em...</td>\n",
       "      <td>Yes</td>\n",
       "      <td>Operations Research Practitioner</td>\n",
       "      <td>Poorly</td>\n",
       "      <td>Self-employed</td>\n",
       "      <td>TensorFlow</td>\n",
       "      <td>Neural Nets</td>\n",
       "      <td>Python</td>\n",
       "      <td>Master's degree</td>\n",
       "      <td>Mathematics or statistics</td>\n",
       "      <td>University courses</td>\n",
       "      <td>250000.0</td>\n",
       "      <td>USD</td>\n",
       "      <td>10 - Highly Satisfied</td>\n",
       "    </tr>\n",
       "    <tr>\n",
       "      <th>1</th>\n",
       "      <td>Female</td>\n",
       "      <td>Australia</td>\n",
       "      <td>43</td>\n",
       "      <td>Employed full-time</td>\n",
       "      <td>Yes</td>\n",
       "      <td>Business Analyst</td>\n",
       "      <td>Fine</td>\n",
       "      <td>Employed by non-profit or NGO</td>\n",
       "      <td>Microsoft Excel Data Mining</td>\n",
       "      <td>Link Analysis</td>\n",
       "      <td>Python</td>\n",
       "      <td>Bachelor's degree</td>\n",
       "      <td>NaN</td>\n",
       "      <td>Work</td>\n",
       "      <td>80000.0</td>\n",
       "      <td>AUD</td>\n",
       "      <td>7</td>\n",
       "    </tr>\n",
       "    <tr>\n",
       "      <th>2</th>\n",
       "      <td>Male</td>\n",
       "      <td>Russia</td>\n",
       "      <td>33</td>\n",
       "      <td>Employed full-time</td>\n",
       "      <td>Yes</td>\n",
       "      <td>Software Developer/Software Engineer</td>\n",
       "      <td>Fine</td>\n",
       "      <td>Employed by a company that doesn't perform adv...</td>\n",
       "      <td>C/C++</td>\n",
       "      <td>Deep learning</td>\n",
       "      <td>Python</td>\n",
       "      <td>Bachelor's degree</td>\n",
       "      <td>Other</td>\n",
       "      <td>Self-taught</td>\n",
       "      <td>1200000.0</td>\n",
       "      <td>RUB</td>\n",
       "      <td>7</td>\n",
       "    </tr>\n",
       "    <tr>\n",
       "      <th>3</th>\n",
       "      <td>Male</td>\n",
       "      <td>India</td>\n",
       "      <td>27</td>\n",
       "      <td>Employed full-time</td>\n",
       "      <td>Yes</td>\n",
       "      <td>Data Scientist</td>\n",
       "      <td>Fine</td>\n",
       "      <td>Employed by professional services/consulting f...</td>\n",
       "      <td>Other</td>\n",
       "      <td>Deep learning</td>\n",
       "      <td>Python</td>\n",
       "      <td>Bachelor's degree</td>\n",
       "      <td>Electrical Engineering</td>\n",
       "      <td>University courses</td>\n",
       "      <td>95000.0</td>\n",
       "      <td>INR</td>\n",
       "      <td>7</td>\n",
       "    </tr>\n",
       "    <tr>\n",
       "      <th>4</th>\n",
       "      <td>Male</td>\n",
       "      <td>Taiwan</td>\n",
       "      <td>26</td>\n",
       "      <td>Employed full-time</td>\n",
       "      <td>Yes</td>\n",
       "      <td>Software Developer/Software Engineer</td>\n",
       "      <td>Fine</td>\n",
       "      <td>Employed by professional services/consulting firm</td>\n",
       "      <td>TensorFlow</td>\n",
       "      <td>Deep learning</td>\n",
       "      <td>Python</td>\n",
       "      <td>Master's degree</td>\n",
       "      <td>Computer Science</td>\n",
       "      <td>Online courses (coursera, udemy, edx, etc.)</td>\n",
       "      <td>1100000.0</td>\n",
       "      <td>TWD</td>\n",
       "      <td>5</td>\n",
       "    </tr>\n",
       "  </tbody>\n",
       "</table>\n",
       "</div>"
      ],
      "text/plain": [
       "  GenderSelect        Country  Age  \\\n",
       "0         Male  United States   56   \n",
       "1       Female      Australia   43   \n",
       "2         Male         Russia   33   \n",
       "3         Male          India   27   \n",
       "4         Male         Taiwan   26   \n",
       "\n",
       "                                    EmploymentStatus CodeWriter  \\\n",
       "0  Independent contractor, freelancer, or self-em...        Yes   \n",
       "1                                 Employed full-time        Yes   \n",
       "2                                 Employed full-time        Yes   \n",
       "3                                 Employed full-time        Yes   \n",
       "4                                 Employed full-time        Yes   \n",
       "\n",
       "                  CurrentJobTitleSelect TitleFit  \\\n",
       "0      Operations Research Practitioner   Poorly   \n",
       "1                      Business Analyst     Fine   \n",
       "2  Software Developer/Software Engineer     Fine   \n",
       "3                        Data Scientist     Fine   \n",
       "4  Software Developer/Software Engineer     Fine   \n",
       "\n",
       "                                 CurrentEmployerType  \\\n",
       "0                                      Self-employed   \n",
       "1                      Employed by non-profit or NGO   \n",
       "2  Employed by a company that doesn't perform adv...   \n",
       "3  Employed by professional services/consulting f...   \n",
       "4  Employed by professional services/consulting firm   \n",
       "\n",
       "          MLToolNextYearSelect MLMethodNextYearSelect  \\\n",
       "0                   TensorFlow            Neural Nets   \n",
       "1  Microsoft Excel Data Mining          Link Analysis   \n",
       "2                        C/C++          Deep learning   \n",
       "3                        Other          Deep learning   \n",
       "4                   TensorFlow          Deep learning   \n",
       "\n",
       "  LanguageRecommendationSelect    FormalEducation                MajorSelect  \\\n",
       "0                       Python    Master's degree  Mathematics or statistics   \n",
       "1                       Python  Bachelor's degree                        NaN   \n",
       "2                       Python  Bachelor's degree                      Other   \n",
       "3                       Python  Bachelor's degree     Electrical Engineering   \n",
       "4                       Python    Master's degree           Computer Science   \n",
       "\n",
       "                           FirstTrainingSelect  CompensationAmount  \\\n",
       "0                           University courses            250000.0   \n",
       "1                                         Work             80000.0   \n",
       "2                                  Self-taught           1200000.0   \n",
       "3                           University courses             95000.0   \n",
       "4  Online courses (coursera, udemy, edx, etc.)           1100000.0   \n",
       "\n",
       "  CompensationCurrency        JobSatisfaction  \n",
       "0                  USD  10 - Highly Satisfied  \n",
       "1                  AUD                      7  \n",
       "2                  RUB                      7  \n",
       "3                  INR                      7  \n",
       "4                  TWD                      5  "
      ]
     },
     "execution_count": 3,
     "metadata": {},
     "output_type": "execute_result"
    }
   ],
   "source": [
    "# Print top 5 rows\n",
    "\n",
    "df_demog.head()"
   ]
  },
  {
   "cell_type": "code",
   "execution_count": 4,
   "metadata": {},
   "outputs": [
    {
     "data": {
      "text/html": [
       "<div>\n",
       "<style scoped>\n",
       "    .dataframe tbody tr th:only-of-type {\n",
       "        vertical-align: middle;\n",
       "    }\n",
       "\n",
       "    .dataframe tbody tr th {\n",
       "        vertical-align: top;\n",
       "    }\n",
       "\n",
       "    .dataframe thead th {\n",
       "        text-align: right;\n",
       "    }\n",
       "</style>\n",
       "<table border=\"1\" class=\"dataframe\">\n",
       "  <thead>\n",
       "    <tr style=\"text-align: right;\">\n",
       "      <th></th>\n",
       "      <th>Age</th>\n",
       "      <th>CompensationAmount</th>\n",
       "    </tr>\n",
       "  </thead>\n",
       "  <tbody>\n",
       "    <tr>\n",
       "      <th>count</th>\n",
       "      <td>4327.000000</td>\n",
       "      <td>4.327000e+03</td>\n",
       "    </tr>\n",
       "    <tr>\n",
       "      <th>mean</th>\n",
       "      <td>34.129651</td>\n",
       "      <td>2.891714e+06</td>\n",
       "    </tr>\n",
       "    <tr>\n",
       "      <th>std</th>\n",
       "      <td>9.476011</td>\n",
       "      <td>2.946122e+07</td>\n",
       "    </tr>\n",
       "    <tr>\n",
       "      <th>min</th>\n",
       "      <td>0.000000</td>\n",
       "      <td>1.090000e+01</td>\n",
       "    </tr>\n",
       "    <tr>\n",
       "      <th>25%</th>\n",
       "      <td>27.000000</td>\n",
       "      <td>5.000000e+04</td>\n",
       "    </tr>\n",
       "    <tr>\n",
       "      <th>50%</th>\n",
       "      <td>32.000000</td>\n",
       "      <td>1.000000e+05</td>\n",
       "    </tr>\n",
       "    <tr>\n",
       "      <th>75%</th>\n",
       "      <td>39.000000</td>\n",
       "      <td>2.200000e+05</td>\n",
       "    </tr>\n",
       "    <tr>\n",
       "      <th>max</th>\n",
       "      <td>99.000000</td>\n",
       "      <td>8.000000e+08</td>\n",
       "    </tr>\n",
       "  </tbody>\n",
       "</table>\n",
       "</div>"
      ],
      "text/plain": [
       "               Age  CompensationAmount\n",
       "count  4327.000000        4.327000e+03\n",
       "mean     34.129651        2.891714e+06\n",
       "std       9.476011        2.946122e+07\n",
       "min       0.000000        1.090000e+01\n",
       "25%      27.000000        5.000000e+04\n",
       "50%      32.000000        1.000000e+05\n",
       "75%      39.000000        2.200000e+05\n",
       "max      99.000000        8.000000e+08"
      ]
     },
     "execution_count": 4,
     "metadata": {},
     "output_type": "execute_result"
    }
   ],
   "source": [
    "#Check statistics \n",
    "\n",
    "df_demog.describe()"
   ]
  },
  {
   "cell_type": "markdown",
   "metadata": {
    "colab_type": "text",
    "id": "7gclqLjREEe7"
   },
   "source": [
    "<div class=\"alert alert-block alert-info\">\n",
    "\n",
    "**Code**: \n",
    "    Check which columns have NAs (don't remove them now), and for each of those columns, display how many records with values (namely, no NULL values)\n",
    "\n",
    "\n",
    "<div class=\"alert alert-block alert-warning\">\n",
    "    \n",
    "**Report**: \n",
    "    **1.0.A** Please include your result for this coding task into your report, with proper section title '1.0.A'.\n",
    "</div>\n",
    "    </div>\n",
    "\n",
    "\n"
   ]
  },
  {
   "cell_type": "code",
   "execution_count": 5,
   "metadata": {
    "colab": {
     "base_uri": "https://localhost:8080/",
     "height": 156
    },
    "colab_type": "code",
    "id": "jk5oshZLot2U",
    "outputId": "d600a287-7465-48f8-8d22-c8b56cf7fb61"
   },
   "outputs": [
    {
     "data": {
      "text/plain": [
       "GenderSelect                    False\n",
       "Country                         False\n",
       "Age                             False\n",
       "EmploymentStatus                False\n",
       "CodeWriter                      False\n",
       "CurrentJobTitleSelect           False\n",
       "TitleFit                         True\n",
       "CurrentEmployerType              True\n",
       "MLToolNextYearSelect             True\n",
       "MLMethodNextYearSelect           True\n",
       "LanguageRecommendationSelect     True\n",
       "FormalEducation                 False\n",
       "MajorSelect                      True\n",
       "FirstTrainingSelect              True\n",
       "CompensationAmount              False\n",
       "CompensationCurrency            False\n",
       "JobSatisfaction                  True\n",
       "dtype: bool"
      ]
     },
     "execution_count": 5,
     "metadata": {},
     "output_type": "execute_result"
    }
   ],
   "source": [
    "#  Check which columns have NAs\n",
    "\n",
    "df_demog.isna().any()"
   ]
  },
  {
   "cell_type": "code",
   "execution_count": 6,
   "metadata": {
    "colab": {
     "base_uri": "https://localhost:8080/",
     "height": 329
    },
    "colab_type": "code",
    "id": "AXyiiOEGot2a",
    "outputId": "7642a05c-2e78-4d78-8af5-5e7396e3169e"
   },
   "outputs": [
    {
     "data": {
      "text/plain": [
       "GenderSelect                    4327\n",
       "Country                         4327\n",
       "Age                             4327\n",
       "EmploymentStatus                4327\n",
       "CodeWriter                      4327\n",
       "CurrentJobTitleSelect           4327\n",
       "TitleFit                        4251\n",
       "CurrentEmployerType             4275\n",
       "MLToolNextYearSelect            4206\n",
       "MLMethodNextYearSelect          4170\n",
       "LanguageRecommendationSelect    4228\n",
       "FormalEducation                 4327\n",
       "MajorSelect                     3952\n",
       "FirstTrainingSelect             4324\n",
       "CompensationAmount              4327\n",
       "CompensationCurrency            4327\n",
       "JobSatisfaction                 4317\n",
       "dtype: int64"
      ]
     },
     "execution_count": 6,
     "metadata": {},
     "output_type": "execute_result"
    }
   ],
   "source": [
    "# display how many records with values\n",
    "\n",
    "df_demog.notnull().sum()"
   ]
  },
  {
   "cell_type": "markdown",
   "metadata": {
    "colab_type": "text",
    "id": "MclqalahEVm-"
   },
   "source": [
    "<div class=\"alert alert-block alert-info\">\n",
    "\n",
    "**Code**: \n",
    "    Select the users whose current job title is 'Data Scientist', and store into variable df_demog_ds    \n",
    "\n",
    "<div class=\"alert alert-block alert-warning\">\n",
    "    \n",
    "**Report**: \n",
    "    **1.0.B** Please include your result of `how many Data Scientists?' into your report, with proper section title  '1.0.B'.\n",
    "</div>\n",
    "</div>\n",
    "\n",
    "\n"
   ]
  },
  {
   "cell_type": "code",
   "execution_count": 7,
   "metadata": {
    "colab": {
     "base_uri": "https://localhost:8080/",
     "height": 312
    },
    "colab_type": "code",
    "id": "sjdZZOc8ot2g",
    "outputId": "240ce3ed-46ea-4d85-e0c9-91cfd043e5da"
   },
   "outputs": [
    {
     "data": {
      "text/plain": [
       "1263"
      ]
     },
     "execution_count": 7,
     "metadata": {},
     "output_type": "execute_result"
    }
   ],
   "source": [
    "\n",
    "#select users who are Data Scientists\n",
    "\n",
    "df_demog_ds = df_demog[df_demog['CurrentJobTitleSelect'] == 'Data Scientist']\n",
    "\n",
    "#How many data scientists\n",
    "\n",
    "len(df_demog_ds)"
   ]
  },
  {
   "cell_type": "markdown",
   "metadata": {
    "_cell_guid": "3e161447-2816-45ec-872f-3a20da79c042",
    "_uuid": "d6bdc03f0c63a08754efc13378661dc986d2bcb8",
    "colab_type": "text",
    "id": "iuhutBLOot5O"
   },
   "source": [
    "### 1.1. Education\n",
    "<a id=\"education\"></a>\n",
    "***\n",
    "In data scientists job, education is important. Is it reasonable to ask data scientists to have a Master's or Doctoral degree? Let's find out. \n"
   ]
  },
  {
   "cell_type": "markdown",
   "metadata": {
    "colab_type": "text",
    "id": "yHyeeZvDot5Q"
   },
   "source": [
    "<div class=\"alert alert-block alert-info\">\n",
    "\n",
    "**Code**: \n",
    "    Plot and display as text output the number and percentage of data scientist with each type of formal education. \n",
    "\n",
    "<div class=\"alert alert-block alert-warning\">\n",
    "    \n",
    "**Report**: \n",
    "    **1.1** Please include your running result of this coding task into your report, with proper section title  '1.1'.\n",
    "</div>\n",
    "</div>"
   ]
  },
  {
   "cell_type": "code",
   "execution_count": 8,
   "metadata": {
    "colab": {
     "base_uri": "https://localhost:8080/",
     "height": 139
    },
    "colab_type": "code",
    "id": "lRXfdfvgot5S",
    "outputId": "0e75e2b5-4e61-4e9c-cb70-141484e5fd45"
   },
   "outputs": [
    {
     "data": {
      "text/plain": [
       "Master's degree                                                      50.277118\n",
       "Doctoral degree                                                      25.811560\n",
       "Bachelor's degree                                                    19.952494\n",
       "Professional degree                                                   1.979414\n",
       "Some college/university study without earning a bachelor's degree     1.504355\n",
       "I did not complete any formal education past high school              0.475059\n",
       "Name: FormalEducation, dtype: float64"
      ]
     },
     "execution_count": 8,
     "metadata": {},
     "output_type": "execute_result"
    }
   ],
   "source": [
    "# percentage of data scientist with each type of formal education. \n",
    "\n",
    "df_demog_ds['FormalEducation'].value_counts(normalize=True)*100\n"
   ]
  },
  {
   "cell_type": "code",
   "execution_count": 9,
   "metadata": {},
   "outputs": [
    {
     "data": {
      "text/plain": [
       "Text(0.5, 1.0, 'Formal Education in Data Scientists')"
      ]
     },
     "execution_count": 9,
     "metadata": {},
     "output_type": "execute_result"
    },
    {
     "data": {
      "image/png": "[encoded data removed]",
      "text/plain": [
       "<Figure size 432x288 with 1 Axes>"
      ]
     },
     "metadata": {},
     "output_type": "display_data"
    }
   ],
   "source": [
    "#variables for different formal education categories\n",
    "\n",
    "masters = df_demog['FormalEducation'] == 'Master\\'s degree'\n",
    "\n",
    "bachelor = df_demog['FormalEducation'] == 'Bachelor\\'s degree'\n",
    "\n",
    "doctoral = df_demog['FormalEducation'] == 'Doctoral degree'\n",
    "\n",
    "drop_out = df_demog['FormalEducation'] == 'Some college/university study without earning a bachelor\\'s degree'\n",
    "\n",
    "incomplete = df_demog['FormalEducation'] == 'I did not complete any formal education past high school'\n",
    "\n",
    "prof = df_demog['FormalEducation'] == 'Professional degree'\n",
    "\n",
    "#x and y axis, y for formal education, and x for frequency of data scientists\n",
    "graph = sns.countplot( y = \"FormalEducation\", data = df_demog)\n",
    "\n",
    "graph.set_xlabel(\"Count\")\n",
    "\n",
    "graph.set_title(\"Formal Education in Data Scientists\")\n",
    "\n"
   ]
  },
  {
   "cell_type": "markdown",
   "metadata": {
    "_cell_guid": "551f7dba-71d3-4f77-8852-fce4f789d644",
    "_uuid": "31449fb18bfea68bb723b010b78dcab6c8fe5439",
    "colab_type": "text",
    "id": "K-yMEEFLot7P"
   },
   "source": [
    "### 1.2. Salary\n",
    "<a id=\"salary\"></a>\n",
    "\n",
    "Data science is considered a very well paying role, let's find out the salary information. Since all of the respondents did not come from one country, we can assume that they gave their salaries in their countries currency. We have filtered the data for you and provided exchange rates in a file called *ConversionRates.csv* which should already be imported. \n",
    "\n",
    "First of all, you need to merge the multiple choice data with the *ConversionRates.csv* by using the compensation currency and originCountry respectively. And then you will need to multiply the compensation amount with exchangeRateAUS to have the Australian dollors."
   ]
  },
  {
   "cell_type": "code",
   "execution_count": 10,
   "metadata": {
    "colab": {
     "base_uri": "https://localhost:8080/",
     "height": 202
    },
    "colab_type": "code",
    "id": "BZaQ7vykot7U",
    "outputId": "14523a49-5dec-454a-9704-328c60b7a173"
   },
   "outputs": [],
   "source": [
    "# Load ConversionRate dataset \n",
    "\n",
    "df_conversion = pd.read_csv('ConversionRates.csv')\n"
   ]
  },
  {
   "cell_type": "markdown",
   "metadata": {
    "colab_type": "text",
    "id": "6MYDXU6dot7T"
   },
   "source": [
    "<div class=\"alert alert-block alert-info\">\n",
    "\n",
    "**Code**: \n",
    "Use the codes for each country to merge the files so that you can convert the salary data to Australian Dollars (AUD). Print out the maximum and median salary in AUD. Hint: think about what data type you have.\n",
    "    \n",
    "<div class=\"alert alert-block alert-warning\">\n",
    "    \n",
    "**Report**: \n",
    "    **1.2.A** In your report's section '1.2.A', answer what is the maximum and the median salary in AUD (this is for all respondents). \n",
    "</div>\n",
    "</div>\n"
   ]
  },
  {
   "cell_type": "code",
   "execution_count": 11,
   "metadata": {
    "colab": {},
    "colab_type": "code",
    "id": "tyMNN-r3Jyjc"
   },
   "outputs": [],
   "source": [
    "# Merge the two files using country\n",
    "\n",
    "merge = df_demog_ds.merge(df_conversion,left_on='CompensationCurrency',right_on='originCountry')"
   ]
  },
  {
   "cell_type": "code",
   "execution_count": 12,
   "metadata": {
    "colab": {
     "base_uri": "https://localhost:8080/",
     "height": 173
    },
    "colab_type": "code",
    "id": "nA9JygJ2ot7v",
    "outputId": "2161e2cb-8d38-4a04-d207-48e1004411d5"
   },
   "outputs": [],
   "source": [
    "# Convert salary data to Australian Dollars\n",
    "\n",
    "merge['AustralianDollars'] = merge['CompensationAmount']*merge['exchangeRate']"
   ]
  },
  {
   "cell_type": "code",
   "execution_count": 13,
   "metadata": {},
   "outputs": [
    {
     "name": "stdout",
     "output_type": "stream",
     "text": [
      "Maximum salary is 595884.6\n",
      "Median salary is 71268.06\n"
     ]
    }
   ],
   "source": [
    "# Find maximum salary for all respondents\n",
    "print('Maximum salary is',merge['AustralianDollars'].max())\n",
    "\n",
    "# Print Median salary in Australia\n",
    "print('Median salary is',merge['AustralianDollars'].median())"
   ]
  },
  {
   "cell_type": "markdown",
   "metadata": {
    "colab_type": "text",
    "id": "kAtIFQgxMcR9"
   },
   "source": [
    "<div class=\"alert alert-block alert-info\">\n",
    "\n",
    "**Code**: \n",
    "Plot a boxplot of the Australian respondents salary distribution. Print out the maximum and median salaries for Australian repsondnts.\n",
    "   \n",
    "<div class=\"alert alert-block alert-warning\">\n",
    "    \n",
    "**Report**: \n",
    "    **1.2.B** In your report's section '1.2.B', answer what is the maximum and median salary in AUD for Australian respondents, and also include your plotted boxplot of this coding task into your report. \n",
    "</div>\n",
    "</div>\n"
   ]
  },
  {
   "cell_type": "code",
   "execution_count": 14,
   "metadata": {
    "colab": {
     "base_uri": "https://localhost:8080/",
     "height": 301
    },
    "colab_type": "code",
    "id": "44a4HBqvMb_N",
    "outputId": "7ca7de86-0fb6-420d-ada5-386a26c36ee2"
   },
   "outputs": [
    {
     "data": {
      "text/plain": [
       "<matplotlib.axes._subplots.AxesSubplot at 0x1a045c075f8>"
      ]
     },
     "execution_count": 14,
     "metadata": {},
     "output_type": "execute_result"
    },
    {
     "data": {
      "image/png": "[encoded data removed]",
      "text/plain": [
       "<Figure size 432x288 with 1 Axes>"
      ]
     },
     "metadata": {},
     "output_type": "display_data"
    }
   ],
   "source": [
    "#Boxplot for Australian Salary\n",
    "\n",
    "plt.title(\"Boxplot of salary on Australia\")\n",
    "\n",
    "australia = merge[merge['originCountry'] ==  'AUD']\n",
    "sns.boxplot(data = australia,y = 'AustralianDollars')\n"
   ]
  },
  {
   "cell_type": "code",
   "execution_count": 15,
   "metadata": {
    "colab": {
     "base_uri": "https://localhost:8080/",
     "height": 173
    },
    "colab_type": "code",
    "id": "RZDQMRRfMbSl",
    "outputId": "b02aa5ee-ccfa-4d03-8d99-d3387ac74f90"
   },
   "outputs": [
    {
     "name": "stdout",
     "output_type": "stream",
     "text": [
      "Maximum salary is 280808.5\n",
      "Median salary is 115131.48500000002\n"
     ]
    }
   ],
   "source": [
    "# Find maximum salary in Australia\n",
    "print('Maximum salary is',australia['AustralianDollars'].max())\n",
    "\n",
    "# Print Median salary in Australia\n",
    "print('Median salary is',australia['AustralianDollars'].median())"
   ]
  },
  {
   "cell_type": "markdown",
   "metadata": {
    "colab_type": "text",
    "id": "b5TQQt_1LSG2"
   },
   "source": [
    "<div class=\"alert alert-block alert-info\">\n",
    "\n",
    "**Code**: \n",
    "There are some outliers in the Australian salary plot. You are required to filter the salary of Australian respondents by removing any below 40,000 or above 250,000. \n",
    "\n",
    "    \n",
    "<div class=\"alert alert-block alert-warning\">\n",
    "    \n",
    "**Report**: \n",
    "    **1.2.C** In your report's section '1.2.C', answer what is the new maximum and median salary in AUD for Australian respondents after filtering, and also include your plotted boxplot of this coding task into your report. \n",
    "</div>\n",
    "</div>\n"
   ]
  },
  {
   "cell_type": "code",
   "execution_count": 16,
   "metadata": {
    "colab": {
     "base_uri": "https://localhost:8080/",
     "height": 173
    },
    "colab_type": "code",
    "id": "2OCbrDb9MUdb",
    "outputId": "cac625f8-363e-439b-af04-cbf0e54fb2d1"
   },
   "outputs": [
    {
     "name": "stderr",
     "output_type": "stream",
     "text": [
      "C:\\Users\\lytica\\Anaconda3\\lib\\site-packages\\ipykernel_launcher.py:5: UserWarning: Boolean Series key will be reindexed to match DataFrame index.\n",
      "  \"\"\"\n"
     ]
    }
   ],
   "source": [
    "# Remove respondents earning less than 40000\n",
    "filter_salary_australia = australia[australia['AustralianDollars'] > 40000]\n",
    "\n",
    "# Remove respondents earning more than 250000\n",
    "filter_salary_australia = filter_salary_australia[australia['AustralianDollars'] < 250000]"
   ]
  },
  {
   "cell_type": "code",
   "execution_count": 17,
   "metadata": {
    "colab": {
     "base_uri": "https://localhost:8080/",
     "height": 301
    },
    "colab_type": "code",
    "id": "iDkjx7H1NhAj",
    "outputId": "fcef345c-3a9b-4897-927a-be05810b6d02"
   },
   "outputs": [
    {
     "data": {
      "text/plain": [
       "<matplotlib.axes._subplots.AxesSubplot at 0x1a045c88a20>"
      ]
     },
     "execution_count": 17,
     "metadata": {},
     "output_type": "execute_result"
    },
    {
     "data": {
      "image/png": "[encoded data removed]",
      "text/plain": [
       "<Figure size 432x288 with 1 Axes>"
      ]
     },
     "metadata": {},
     "output_type": "display_data"
    }
   ],
   "source": [
    "plt.title(\"Boxplot of filtered salary on Australia\")\n",
    "\n",
    "# Boxplot for Australian salarie after filtering\n",
    "sns.boxplot(data = filter_salary_australia,y = 'AustralianDollars')\n"
   ]
  },
  {
   "cell_type": "code",
   "execution_count": 18,
   "metadata": {},
   "outputs": [
    {
     "name": "stdout",
     "output_type": "stream",
     "text": [
      "New salary median is 117939.57\n",
      "New salary maximum is 232669.90000000002\n"
     ]
    }
   ],
   "source": [
    "# Salary Median after filtering\n",
    "print('New salary median is' , filter_salary_australia['AustralianDollars'].median())\n",
    "\n",
    "#Salary maximum after filtering\n",
    "print('New salary maximum is' , filter_salary_australia['AustralianDollars'].max())"
   ]
  },
  {
   "cell_type": "markdown",
   "metadata": {
    "_cell_guid": "06c9b38b-000e-4b8a-95f0-65a93bb332f2",
    "_uuid": "2bfa8ca86a226c9900a67a02236a072274bc0d18",
    "colab_type": "text",
    "id": "WL_oOonnot2l"
   },
   "source": [
    "### 1.3. Exploring the data scientist Demographics\n",
    "<a id=\"demographics\"></a>\n",
    "***\n",
    "\n",
    "#### 1.3.1 Age\n",
    "<a id=\"age\"></a>\n",
    "You will need to build a boxplot to explore the age of all data scientists. \n",
    "Your plot must have a label for each axis, a tittle and also show the outliers."
   ]
  },
  {
   "cell_type": "code",
   "execution_count": 19,
   "metadata": {
    "colab": {
     "base_uri": "https://localhost:8080/",
     "height": 301
    },
    "colab_type": "code",
    "id": "3qi9JyJHot2o",
    "outputId": "a4a60cbe-b15a-4b71-c3fe-64027b81bb62"
   },
   "outputs": [
    {
     "data": {
      "image/png": "[encoded data removed]",
      "text/plain": [
       "<Figure size 432x288 with 1 Axes>"
      ]
     },
     "metadata": {},
     "output_type": "display_data"
    }
   ],
   "source": [
    "plt.title(\"Boxplot of Age\")\n",
    "\n",
    "# Boxplot for age\n",
    "ax = sns.boxplot(x = df_demog_ds[\"Age\"])"
   ]
  },
  {
   "cell_type": "markdown",
   "metadata": {
    "colab_type": "text",
    "id": "sQEUpSEOot2u"
   },
   "source": [
    "<div class=\"alert alert-block alert-info\">\n",
    "\n",
    "**Code**: \n",
    "        <ol>\n",
    "        <li> Calculate the five number summary descriptive statistics for age as shown on the boxplot, as well as the mean. Please round your mean to integer.</li>\n",
    "        <li> Regardless of the errors that the data show, we are interested in working-age data scientists, how many aged between 24 and 60. </li>\n",
    "        <li> How many respondents were under 18?</li>\n",
    "    </ol>\n",
    "    \n",
    "\n",
    "    \n",
    "<div class=\"alert alert-block alert-warning\">\n",
    "    \n",
    "**Report**: \n",
    "    **1.3.A** In your report's section '1.3.A', answer \n",
    "        <ol>\n",
    "        <li> What is the mean age of all data scientists? </li>\n",
    "        <li> What is the median age of all data scientists? </li>\n",
    "        <li> how many data scientists aged between 24 and 60</li>\n",
    "        <li> how many respondents were under 18? </li>\n",
    "    </ol>\n",
    "</div>\n",
    "</div>\n",
    "\n",
    "\n",
    "\n",
    "\n",
    "\n"
   ]
  },
  {
   "cell_type": "code",
   "execution_count": 20,
   "metadata": {
    "colab": {
     "base_uri": "https://localhost:8080/",
     "height": 173
    },
    "colab_type": "code",
    "id": "NYdZjpklot2w",
    "outputId": "ff7d04f8-64e4-4f34-cf43-caa7588d7ed3"
   },
   "outputs": [
    {
     "name": "stdout",
     "output_type": "stream",
     "text": [
      "Median age is 32\n"
     ]
    }
   ],
   "source": [
    "# median age\n",
    "print('Median age is',int(df_demog_ds[\"Age\"].median()))"
   ]
  },
  {
   "cell_type": "code",
   "execution_count": 21,
   "metadata": {
    "colab": {
     "base_uri": "https://localhost:8080/",
     "height": 35
    },
    "colab_type": "code",
    "id": "ngjxIviIot21",
    "outputId": "97a924af-e98b-4681-f6f0-c8aa303e5a09"
   },
   "outputs": [
    {
     "name": "stdout",
     "output_type": "stream",
     "text": [
      "Mean age is 33\n"
     ]
    }
   ],
   "source": [
    "# Mean age\n",
    "print('Mean age is',int(df_demog_ds[\"Age\"].mean()))"
   ]
  },
  {
   "cell_type": "code",
   "execution_count": 22,
   "metadata": {
    "colab": {
     "base_uri": "https://localhost:8080/",
     "height": 35
    },
    "colab_type": "code",
    "id": "bW7mnijvJyj1",
    "outputId": "53ddc018-37ad-4dff-d1ca-6946897e7e98"
   },
   "outputs": [
    {
     "name": "stdout",
     "output_type": "stream",
     "text": [
      "Min age is 16\n",
      "Max age is 75\n",
      "Upper quatile is 37.5\n",
      "Lower quatile is 27.0\n"
     ]
    }
   ],
   "source": [
    "# Min age\n",
    "print('Min age is',int(df_demog_ds[\"Age\"].min()))\n",
    "\n",
    "#Max age\n",
    "print('Max age is',int(df_demog_ds[\"Age\"].max()))\n",
    "\n",
    "#Upper quatile\n",
    "print('Upper quatile is',df_demog_ds[\"Age\"].quantile(0.75))\n",
    "\n",
    "#Lower quatile\n",
    "print('Lower quatile is',df_demog_ds[\"Age\"].quantile(0.25))"
   ]
  },
  {
   "cell_type": "code",
   "execution_count": 23,
   "metadata": {
    "colab": {
     "base_uri": "https://localhost:8080/",
     "height": 35
    },
    "colab_type": "code",
    "id": "RxcGZ97Uot3M",
    "outputId": "41415243-6be8-48c4-87e7-f98f7a46e1e7"
   },
   "outputs": [
    {
     "data": {
      "text/plain": [
       "1263"
      ]
     },
     "execution_count": 23,
     "metadata": {},
     "output_type": "execute_result"
    }
   ],
   "source": [
    "# Your code: How many data scientsits aged between 24 and 60\n",
    "len(df_demog_ds[(df_demog_ds[\"Age\"]>=24)|(df_demog_ds['Age']<=60)])\n"
   ]
  },
  {
   "cell_type": "code",
   "execution_count": 24,
   "metadata": {
    "colab": {
     "base_uri": "https://localhost:8080/",
     "height": 35
    },
    "colab_type": "code",
    "id": "3fehgZuEJyj8",
    "outputId": "ab079e51-749e-460c-e4d9-a5c23a514ede"
   },
   "outputs": [
    {
     "data": {
      "text/plain": [
       "1"
      ]
     },
     "execution_count": 24,
     "metadata": {},
     "output_type": "execute_result"
    }
   ],
   "source": [
    "# Your Code: how many respondents under 18?\n",
    "len(df_demog_ds[df_demog_ds[\"Age\"]<18])"
   ]
  },
  {
   "cell_type": "markdown",
   "metadata": {
    "colab_type": "text",
    "id": "c-al5HYdot3W"
   },
   "source": [
    "#### 1.3.2 Gender\n",
    "<a id=\"gender\"></a>\n",
    "We are interested in the gender of respondents. Nowadays, the gender equity is important for companies and organizations. \n"
   ]
  },
  {
   "cell_type": "markdown",
   "metadata": {
    "_cell_guid": "4b0c5cbc-a703-4b39-95bd-510f07ece6c0",
    "_uuid": "214cae932a19a586e341914443aa89e62009e6c4",
    "colab_type": "text",
    "id": "aVdtFL5wot3Y"
   },
   "source": [
    "<div class=\"alert alert-block alert-info\">\n",
    "\n",
    "**Code**: \n",
    "Plot the gender distribution of the data scientist users using a bar chart. \n",
    "</div>\n"
   ]
  },
  {
   "cell_type": "code",
   "execution_count": 25,
   "metadata": {
    "colab": {
     "base_uri": "https://localhost:8080/",
     "height": 301
    },
    "colab_type": "code",
    "id": "OcKUWzqqot3Z",
    "outputId": "401bc6aa-291d-4808-86f2-17994f8e8ef2"
   },
   "outputs": [
    {
     "data": {
      "image/png": "[encoded data removed]",
      "text/plain": [
       "<Figure size 432x288 with 1 Axes>"
      ]
     },
     "metadata": {},
     "output_type": "display_data"
    }
   ],
   "source": [
    "plt.title(\"Bar chat of Gender\")\n",
    "\n",
    "# Barchart on Gender\n",
    "ax = sns.countplot(x = \"GenderSelect\",data = df_demog_ds)"
   ]
  },
  {
   "cell_type": "markdown",
   "metadata": {},
   "source": [
    "Now let's see if any relationship between gender and age\n",
    "\n",
    "Create a box plot showing the age of all the data scientists according to gender (men, women and other identity)."
   ]
  },
  {
   "cell_type": "code",
   "execution_count": 26,
   "metadata": {
    "colab": {
     "base_uri": "https://localhost:8080/",
     "height": 301
    },
    "colab_type": "code",
    "id": "fLPvkJt2ot30",
    "outputId": "dac6f3ae-67cf-49f1-8132-ecd33346f476"
   },
   "outputs": [
    {
     "data": {
      "image/png": "[encoded data removed]",
      "text/plain": [
       "<Figure size 432x288 with 1 Axes>"
      ]
     },
     "metadata": {},
     "output_type": "display_data"
    }
   ],
   "source": [
    "plt.title(\"Boxplot of Age with GenderSelect\")\n",
    "\n",
    "# Boxplot for age of all scientists according to gender\n",
    "ax = sns.boxplot(x = df_demog_ds['GenderSelect'],y = df_demog_ds['Age'])"
   ]
  },
  {
   "cell_type": "markdown",
   "metadata": {
    "colab_type": "text",
    "id": "MQb_Obrpot3e"
   },
   "source": [
    "<div class=\"alert alert-block alert-info\">\n",
    "\n",
    "**Code**: \n",
    "You are required to use the barchart to show the percentage of men, women and other identity.\n",
    "    \n",
    "    \n",
    "<div class=\"alert alert-block alert-warning\">\n",
    "    \n",
    "**Report**: \n",
    "    **1.3.B** In your report's section '1.3.B', include the bar chart generated from your code.\n",
    "</div>\n",
    "</div>"
   ]
  },
  {
   "cell_type": "code",
   "execution_count": 27,
   "metadata": {
    "colab": {
     "base_uri": "https://localhost:8080/",
     "height": 518
    },
    "colab_type": "code",
    "id": "H0tU0cJLot3h",
    "outputId": "dcd0fa35-7839-4d84-c472-4f3d79721bf8"
   },
   "outputs": [
    {
     "data": {
      "text/plain": [
       "<matplotlib.axes._subplots.AxesSubplot at 0x1a045e36128>"
      ]
     },
     "execution_count": 27,
     "metadata": {},
     "output_type": "execute_result"
    },
    {
     "data": {
      "image/png": "[encoded data removed]",
      "text/plain": [
       "<Figure size 864x576 with 1 Axes>"
      ]
     },
     "metadata": {},
     "output_type": "display_data"
    }
   ],
   "source": [
    "plt.figure(figsize =(12,8))\n",
    "plt.title('Distribution of Gender')\n",
    "plt.xlabel('Gender Select')\n",
    "plt.ylabel('Percentage [%]')\n",
    "\n",
    "# Find the percentage each gender contributes to the total\n",
    "percentages = df_demog_ds['GenderSelect'].value_counts(normalize = True)*100\n",
    "\n",
    "#Barplot for the gender percentage\n",
    "sns.barplot(x = ['Male','Female','A different identity'],y = percentages.values)"
   ]
  },
  {
   "cell_type": "markdown",
   "metadata": {
    "colab_type": "text",
    "id": "ohxh7aPWot4G"
   },
   "source": [
    "#### 1.3.3 Country\n",
    "<a id=\"country\"></a>\n",
    "The data scientists are working all over the world. The United States is regarded the largest data science community. India, China and some other countries are also having a fast growing recently. Is this true? Let's find out."
   ]
  },
  {
   "cell_type": "markdown",
   "metadata": {
    "colab_type": "text",
    "id": "gcW1HPZlot4J"
   },
   "source": [
    "<div class=\"alert alert-block alert-info\">\n",
    "\n",
    "**Code**: \n",
    "Find the top 5 countries of data scientists.\n",
    "    \n",
    "<div class=\"alert alert-block alert-warning\">\n",
    "    \n",
    "**Report**: \n",
    "    **1.3.C** In your report's section '1.3.C', answer what are those top 5 countries and their corresponding number of data scienists\n",
    "</div>\n",
    "</div>"
   ]
  },
  {
   "cell_type": "code",
   "execution_count": 28,
   "metadata": {
    "colab": {
     "base_uri": "https://localhost:8080/",
     "height": 202
    },
    "colab_type": "code",
    "id": "e14ly826ot4L",
    "outputId": "4b766db4-8f1b-490a-9c4a-5a361bd7071a"
   },
   "outputs": [
    {
     "data": {
      "text/plain": [
       "United States     414\n",
       "India             111\n",
       "France             60\n",
       "United Kingdom     55\n",
       "Germany            50\n",
       "Name: Country, dtype: int64"
      ]
     },
     "execution_count": 28,
     "metadata": {},
     "output_type": "execute_result"
    }
   ],
   "source": [
    "#Find the number of data scientists in each country\n",
    "\n",
    "df_country = df_demog_ds['Country'].value_counts()\n",
    "\n",
    "#Top five countries for data scientist\n",
    "df_country.head(5)"
   ]
  },
  {
   "cell_type": "code",
   "execution_count": 29,
   "metadata": {
    "_cell_guid": "f3da614f-96e2-45d1-ba78-9d08a58fa136",
    "_kg_hide-input": true,
    "_uuid": "34afcf67184929a6de8358a13a961d0b9ad25b6c",
    "colab": {
     "base_uri": "https://localhost:8080/",
     "height": 678
    },
    "colab_type": "code",
    "id": "4NfzLajkot4X",
    "outputId": "5eaf1aee-0581-4b25-b26f-a61ae5d7c53c"
   },
   "outputs": [
    {
     "data": {
      "text/plain": [
       "<matplotlib.axes._subplots.AxesSubplot at 0x1a0460dba20>"
      ]
     },
     "execution_count": 29,
     "metadata": {},
     "output_type": "execute_result"
    },
    {
     "data": {
      "image/png": "[encoded data removed]",
      "text/plain": [
       "<Figure size 720x576 with 1 Axes>"
      ]
     },
     "metadata": {},
     "output_type": "display_data"
    }
   ],
   "source": [
    "# Show only one suitable plot of country: either Bar plot, count plot, or Boxplot (possible or not?)\n",
    "\n",
    "# Plot horizontal barplot for country\n",
    "df_demog_ds['Country'].value_counts().plot(kind = 'barh',figsize =(10,8))"
   ]
  },
  {
   "cell_type": "markdown",
   "metadata": {
    "colab_type": "text",
    "id": "t8LLns9IJykS"
   },
   "source": [
    "<div class=\"alert alert-block alert-info\">\n",
    "\n",
    "**Code**: \n",
    "Generate the distribution of top 5 countries of data scientists, using percentage barchart. You can not mannually input the name of top 5 countries (your code should not contain any name of the top 5 countries), and you are required to use python subset functions or many other functions.\n",
    "    \n",
    "<div class=\"alert alert-block alert-warning\">\n",
    "    \n",
    "**Report**: \n",
    "    **1.3.D** In your report's section '1.3.D', including the percentage barchart of those top 5 countries. Here the percentage is calculated based on all countries, not for those top 5 countries. So the sum of top 5 countries' percentage should be less than 1.\n",
    "</div>\n",
    "</div>"
   ]
  },
  {
   "cell_type": "code",
   "execution_count": 30,
   "metadata": {
    "colab": {
     "base_uri": "https://localhost:8080/",
     "height": 518
    },
    "colab_type": "code",
    "id": "M1g1CA3_ot4l",
    "outputId": "af7a5eef-7396-459e-ecf8-69d9f9f6ea6c"
   },
   "outputs": [
    {
     "data": {
      "text/plain": [
       "<matplotlib.axes._subplots.AxesSubplot at 0x1a0460108d0>"
      ]
     },
     "execution_count": 30,
     "metadata": {},
     "output_type": "execute_result"
    },
    {
     "data": {
      "image/png": "[encoded data removed]",
      "text/plain": [
       "<Figure size 864x576 with 1 Axes>"
      ]
     },
     "metadata": {},
     "output_type": "display_data"
    }
   ],
   "source": [
    "#percentage\n",
    "plt.figure(figsize =(12,8))\n",
    "plt.title('Distribution of Top 5 country with data scientist count')\n",
    "plt.xlabel('Country')\n",
    "plt.ylabel('Percentage [%]')\n",
    "\n",
    "\n",
    "# fill values into df_country_top5\n",
    "df_country_top5 = df_demog_ds['Country'].value_counts(normalize = True)[0:5]\n",
    "#Plot top\n",
    "df_country_top5.plot(kind ='bar')\n"
   ]
  },
  {
   "cell_type": "markdown",
   "metadata": {
    "colab_type": "text",
    "id": "rQNCS52Aot40"
   },
   "source": [
    "Now we have some understanding about the country, let's see if there is any relationship between country, age and gender.\n",
    "\n",
    "<div class=\"alert alert-block alert-info\">\n",
    "\n",
    "**Code**: \n",
    "You are required to output the mean and median age for each gender for the United States, India, Australia, Pakistan\n",
    "\n",
    "\n",
    "<div class=\"alert alert-block alert-warning\">\n",
    "    \n",
    "**Report**: \n",
    "    **1.3.E** In your report's section '1.3.E', including the results of above coding task.\n",
    "</div>\n",
    "</div>\n",
    "\n",
    "\n"
   ]
  },
  {
   "cell_type": "code",
   "execution_count": 31,
   "metadata": {
    "colab": {
     "base_uri": "https://localhost:8080/",
     "height": 325
    },
    "colab_type": "code",
    "id": "C8x3hi3xot45",
    "outputId": "dc0ce279-87ba-4670-d9e1-38726f0f854e"
   },
   "outputs": [
    {
     "name": "stdout",
     "output_type": "stream",
     "text": [
      "The mean age of\tMale\tin\tUnited States\tis 35.25845410628019\n",
      "The median age of\tMale\tin\tUnited States\tis 33.0\n",
      "\n",
      "\n",
      "The mean age of\tFemale\tin\tUnited States\tis 35.25845410628019\n",
      "The median age of\tFemale\tin\tUnited States\tis 33.0\n",
      "\n",
      "\n",
      "The mean age of\tA different identity\tin\tUnited States\tis 35.25845410628019\n",
      "The median age of\tA different identity\tin\tUnited States\tis 33.0\n",
      "\n",
      "\n",
      "The mean age of\tMale\tin\tIndia\tis 29.92792792792793\n",
      "The median age of\tMale\tin\tIndia\tis 28.0\n",
      "\n",
      "\n",
      "The mean age of\tFemale\tin\tIndia\tis 29.92792792792793\n",
      "The median age of\tFemale\tin\tIndia\tis 28.0\n",
      "\n",
      "\n",
      "The mean age of\tA different identity\tin\tIndia\tis 29.92792792792793\n",
      "The median age of\tA different identity\tin\tIndia\tis 28.0\n",
      "\n",
      "\n",
      "The mean age of\tMale\tin\tAustralia\tis 34.58620689655172\n",
      "The median age of\tMale\tin\tAustralia\tis 34.0\n",
      "\n",
      "\n",
      "The mean age of\tFemale\tin\tAustralia\tis 34.58620689655172\n",
      "The median age of\tFemale\tin\tAustralia\tis 34.0\n",
      "\n",
      "\n",
      "The mean age of\tA different identity\tin\tAustralia\tis 34.58620689655172\n",
      "The median age of\tA different identity\tin\tAustralia\tis 34.0\n",
      "\n",
      "\n",
      "The mean age of\tMale\tin\tPakistan\tis 32.0\n",
      "The median age of\tMale\tin\tPakistan\tis 27.0\n",
      "\n",
      "\n",
      "The mean age of\tFemale\tin\tPakistan\tis 32.0\n",
      "The median age of\tFemale\tin\tPakistan\tis 27.0\n",
      "\n",
      "\n",
      "The mean age of\tA different identity\tin\tPakistan\tis 32.0\n",
      "The median age of\tA different identity\tin\tPakistan\tis 27.0\n",
      "\n",
      "\n"
     ]
    }
   ],
   "source": [
    "# Create a list of the countries\n",
    "countries =['United States', 'India', 'Australia', 'Pakistan']\n",
    "#Create list of the genders\n",
    "Genders =['Male','Female','A different identity']\n",
    "#Loop through each countries' gender and compute the mean and median\n",
    "for country in countries: \n",
    "    \n",
    "    for gender in Genders:\n",
    "        \n",
    "        print('The mean age of'+'\\t' +gender +'\\t'+'in'+'\\t'+country +'\\t'+ 'is', df_demog_ds[df_demog_ds['Country']==country]['Age'].mean())\n",
    "\n",
    "        print('The median age of'+'\\t' +gender +'\\t'+'in'+'\\t'+country +'\\t'+ 'is', df_demog_ds[df_demog_ds['Country']==country]['Age'].median())\n",
    "        \n",
    "        print('\\n')\n",
    "        "
   ]
  },
  {
   "cell_type": "markdown",
   "metadata": {
    "colab_type": "text",
    "id": "gYQNiE5Cot-I"
   },
   "source": [
    "## Part 2 - Data Science Job Advertising Data\n",
    "\n",
    "In this part, you are required to use the text processing skills to find out the insights in data science job adverising Data."
   ]
  },
  {
   "cell_type": "markdown",
   "metadata": {
    "colab_type": "text",
    "id": "LQmiP5-_Nc3b"
   },
   "source": [
    "### 2.1. Load the data and Extract the high frequency words\n",
    "<a id=\"text\"></a>\n",
    "\n",
    "Firstly, you will need to load the [JobPostings.csv](https://github.com/tulip-lab/sit742/raw/master/Assessment/2020/data/JobPostings.csv) data and sub-set out of the job description from it."
   ]
  },
  {
   "cell_type": "code",
   "execution_count": 32,
   "metadata": {
    "colab": {
     "base_uri": "https://localhost:8080/",
     "height": 69
    },
    "colab_type": "code",
    "id": "zH8XAQ0xYGSc",
    "outputId": "6369ff7f-52d3-4a2a-a22d-8b284e76d8de"
   },
   "outputs": [
    {
     "name": "stderr",
     "output_type": "stream",
     "text": [
      "[nltk_data] Error loading stopwords: <urlopen error [Errno 11001]\n",
      "[nltk_data]     getaddrinfo failed>\n",
      "[nltk_data] Error loading punkt: <urlopen error [Errno 11001]\n",
      "[nltk_data]     getaddrinfo failed>\n"
     ]
    },
    {
     "data": {
      "text/plain": [
       "False"
      ]
     },
     "execution_count": 32,
     "metadata": {},
     "output_type": "execute_result"
    }
   ],
   "source": [
    "import re\n",
    "import nltk\n",
    "from nltk.tokenize import RegexpTokenizer\n",
    "from nltk.probability import *\n",
    "from itertools import chain\n",
    "#from tqdm import tqdm\n",
    "import codecs\n",
    "from nltk.corpus import stopwords \n",
    "nltk.download('stopwords')\n",
    "nltk.download('punkt')"
   ]
  },
  {
   "cell_type": "code",
   "execution_count": 33,
   "metadata": {
    "colab": {},
    "colab_type": "code",
    "id": "p_BSc5WkYcf4"
   },
   "outputs": [],
   "source": [
    "#Load jobpostings dataset\n",
    "df_text = pd.read_csv('JobPostings.csv')"
   ]
  },
  {
   "cell_type": "markdown",
   "metadata": {
    "colab_type": "text",
    "id": "xm1vdjSKJykj"
   },
   "source": [
    "<div class=\"alert alert-block alert-info\">\n",
    "\n",
    "**Code**: \n",
    "You are required to extract the token and append them into the list 'token'.\n",
    "\n",
    "<div class=\"alert alert-block alert-warning\">\n",
    "    \n",
    "**Report**: \n",
    "    **2.1.A** In your report's section '2.1.A', including your code of this task. You can copy and paster your completed code in the following cell\n",
    "</div>\n",
    "</div>\n"
   ]
  },
  {
   "cell_type": "code",
   "execution_count": 34,
   "metadata": {
    "colab": {},
    "colab_type": "code",
    "id": "Rz03Rd-GYYMw"
   },
   "outputs": [],
   "source": [
    "lower = []\n",
    "for item in df_text['job_description']:\n",
    "    lower.append(item.lower())           # lowercase description\n",
    "\n",
    "tokens = []\n",
    "\n",
    "#tokenize, and add to tokens\n",
    "\n",
    "\n",
    "for l in lower:\n",
    "    tokens.append(nltk.tokenize.word_tokenize(l))\n"
   ]
  },
  {
   "cell_type": "markdown",
   "metadata": {
    "colab_type": "text",
    "id": "VD4z8w8xOKDJ"
   },
   "source": [
    "Secondly, \n",
    "\n",
    "<div class=\"alert alert-block alert-info\">\n",
    "\n",
    "**Code**: \n",
    "You are required to find out the words freqency which is more than 6000 in the job descriptions. (Please use stopwords at beginning)\n",
    "\n",
    "\n",
    "<div class=\"alert alert-block alert-warning\">\n",
    "    \n",
    "**Report**: \n",
    "    **2.1.B** In your report's section '2.1.B', list those words with frequency > 6000.\n",
    "</div>\n",
    "</div>\n",
    "\n",
    "\n"
   ]
  },
  {
   "cell_type": "code",
   "execution_count": 35,
   "metadata": {
    "colab": {},
    "colab_type": "code",
    "id": "c-Pag_N7Zew-"
   },
   "outputs": [],
   "source": [
    "stop_words = set(stopwords.words('english')) \n",
    "\n",
    "freq6000 = []\n",
    "\n",
    "# Your Code\n",
    "# find top common words with document frequencies > 6000\n",
    "# you may use function FreqDist() and sort()\n",
    "filtered_tokenized_text = [word for word in tokens[0] if word not in stop_words]\n",
    "allWordDist = nltk.FreqDist(filtered_tokenized_text)\n",
    " \n",
    "\n",
    "for word, frequency in allWordDist.most_common(30):\n",
    "    \n",
    "    if frequency>6000:\n",
    "        \n",
    "        freq6000.append(word,frequency)\n",
    "   \n",
    "    \n",
    "    "
   ]
  },
  {
   "cell_type": "markdown",
   "metadata": {
    "colab_type": "text",
    "id": "EK9-BCbDJyky"
   },
   "source": [
    "Then,\n",
    "\n",
    "<div class=\"alert alert-block alert-info\">\n",
    "\n",
    "**Code**: \n",
    "You are required to sort and display the top 10 high frequency words in 'freq6000'\n",
    "\n",
    "<div class=\"alert alert-block alert-warning\">\n",
    "    \n",
    "**Report**: \n",
    "    **2.1.C** In your report's section '2.1.C', list those top 10 words\n",
    "</div>\n",
    "</div>\n",
    "\n",
    "\n",
    "\n",
    "\n"
   ]
  },
  {
   "cell_type": "code",
   "execution_count": 36,
   "metadata": {
    "colab": {
     "base_uri": "https://localhost:8080/",
     "height": 355
    },
    "colab_type": "code",
    "id": "doWvhqRmJykz",
    "outputId": "5411c8b2-23ec-43a6-d41d-20ea9ffcd335"
   },
   "outputs": [
    {
     "data": {
      "text/plain": [
       "[]"
      ]
     },
     "execution_count": 36,
     "metadata": {},
     "output_type": "execute_result"
    }
   ],
   "source": [
    "# top 10 high fequency words in 'freq6000'\n",
    "\n",
    "freq6000[0:9]\n"
   ]
  },
  {
   "cell_type": "markdown",
   "metadata": {},
   "source": [
    "Finally,\n",
    "\n",
    "<div class=\"alert alert-block alert-info\">\n",
    "\n",
    "**Code**: \n",
    "You are required to carry out one more analytics on this data set, and implement it below.\n",
    "\n",
    "<div class=\"alert alert-block alert-warning\">\n",
    "    \n",
    "**Report**: \n",
    "    **2.1.D** In your report's section '2.1.D', describe your self-defined text analysis task, and the discovery from your analysis.\n",
    "</div>\n",
    "</div>\n",
    "\n",
    "\n",
    "\n",
    "\n",
    "\n"
   ]
  },
  {
   "cell_type": "code",
   "execution_count": 37,
   "metadata": {},
   "outputs": [
    {
     "data": {
      "text/plain": [
       "Sentiment(polarity=0.12782738095238097, subjectivity=0.4077752976190476)"
      ]
     },
     "execution_count": 37,
     "metadata": {},
     "output_type": "execute_result"
    }
   ],
   "source": [
    "# Import textblob for sentiment analysis\n",
    "from textblob import TextBlob\n",
    "\n",
    "blob=TextBlob(lower[0])\n",
    "\n",
    "#Output the sentiment scores\n",
    "blob.sentiment\n"
   ]
  },
  {
   "cell_type": "code",
   "execution_count": null,
   "metadata": {},
   "outputs": [],
   "source": []
  }
 ],
 "metadata": {
  "colab": {
   "collapsed_sections": [],
   "name": "2020SIT742Task1Sol.ipynb",
   "provenance": [],
   "toc_visible": true
  },
  "kernelspec": {
   "display_name": "Python 3",
   "language": "python",
   "name": "python3"
  },
  "language_info": {
   "codemirror_mode": {
    "name": "ipython",
    "version": 3
   },
   "file_extension": ".py",
   "mimetype": "text/x-python",
   "name": "python",
   "nbconvert_exporter": "python",
   "pygments_lexer": "ipython3",
   "version": "3.7.1"
  }
 },
 "nbformat": 4,
 "nbformat_minor": 4
}
